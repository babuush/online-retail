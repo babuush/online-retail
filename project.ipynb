{
 "cells": [
  {
   "cell_type": "markdown",
   "metadata": {},
   "source": [
    "# Web Scraping Project\n",
    "## import"
   ]
  },
  {
   "cell_type": "code",
   "execution_count": 5,
   "metadata": {},
   "outputs": [],
   "source": [
    "from selenium import webdriver\n",
    "from selenium.webdriver.common.by import By\n",
    "\n",
    "from selenium.webdriver.chrome.options import Options\n",
    "from selenium.webdriver.chrome.service import Service\n",
    "from webdriver_manager.chrome import ChromeDriverManager\n",
    "from selenium.webdriver.common.keys import Keys\n",
    "from selenium.webdriver.support.ui import WebDriverWait\n",
    "from selenium.webdriver.support import expected_conditions as EC\n",
    "import bs4\n",
    "import pandas as pd"
   ]
  },
  {
   "cell_type": "code",
   "execution_count": 2,
   "metadata": {},
   "outputs": [],
   "source": [
    "url_L=[]\n",
    "name_L=[]\n",
    "price_L=[]\n",
    "sold_L=[]\n",
    "amount_reviewer_L=[]\n",
    "all_store_reviewer_L=[]\n",
    "all_product_store_L=[]\n",
    "response_rate_L=[]\n",
    "follower_L=[]\n",
    "joined_L=[]\n",
    "rating_L=[]\n",
    "new_url_L=[]"
   ]
  },
  {
   "cell_type": "markdown",
   "metadata": {},
   "source": [
    "## setup the driver"
   ]
  },
  {
   "cell_type": "code",
   "execution_count": 17,
   "metadata": {},
   "outputs": [
    {
     "ename": "TypeError",
     "evalue": "'WebElement' object is not iterable",
     "output_type": "error",
     "traceback": [
      "\u001b[0;31m---------------------------------------------------------------------------\u001b[0m",
      "\u001b[0;31mTypeError\u001b[0m                                 Traceback (most recent call last)",
      "\u001b[1;32m/Users/thanapatpiyamssakul/coding/first_year/midterm/online-retail/project.ipynb Cell 5\u001b[0m line \u001b[0;36m8\n\u001b[1;32m      <a href='vscode-notebook-cell:/Users/thanapatpiyamssakul/coding/first_year/midterm/online-retail/project.ipynb#W4sZmlsZQ%3D%3D?line=5'>6</a>\u001b[0m WebDriverWait(driver, \u001b[39m7\u001b[39m)\u001b[39m#.until(EC.visibility_of_element_located((By.XPATH,f\"/html/body/div[2]/div[1]/div[1]/div/div[3]/div[2]/button\")))\u001b[39;00m\n\u001b[1;32m      <a href='vscode-notebook-cell:/Users/thanapatpiyamssakul/coding/first_year/midterm/online-retail/project.ipynb#W4sZmlsZQ%3D%3D?line=6'>7</a>\u001b[0m links\u001b[39m=\u001b[39mdriver\u001b[39m.\u001b[39mfind_element(By\u001b[39m.\u001b[39mXPATH,\u001b[39m\"\u001b[39m\u001b[39m//a[@href]\u001b[39m\u001b[39m\"\u001b[39m)\n\u001b[0;32m----> <a href='vscode-notebook-cell:/Users/thanapatpiyamssakul/coding/first_year/midterm/online-retail/project.ipynb#W4sZmlsZQ%3D%3D?line=7'>8</a>\u001b[0m \u001b[39mfor\u001b[39;00m link \u001b[39min\u001b[39;00m links:\n\u001b[1;32m      <a href='vscode-notebook-cell:/Users/thanapatpiyamssakul/coding/first_year/midterm/online-retail/project.ipynb#W4sZmlsZQ%3D%3D?line=8'>9</a>\u001b[0m     \u001b[39mif\u001b[39;00m \u001b[39m\"\u001b[39m\u001b[39mEnglish\u001b[39m\u001b[39m\"\u001b[39m \u001b[39min\u001b[39;00m link\u001b[39m.\u001b[39mget_attribute(\u001b[39m\"\u001b[39m\u001b[39minnerHTML\u001b[39m\u001b[39m\"\u001b[39m):\n\u001b[1;32m     <a href='vscode-notebook-cell:/Users/thanapatpiyamssakul/coding/first_year/midterm/online-retail/project.ipynb#W4sZmlsZQ%3D%3D?line=9'>10</a>\u001b[0m         link\u001b[39m.\u001b[39mclick()\n",
      "\u001b[0;31mTypeError\u001b[0m: 'WebElement' object is not iterable"
     ]
    }
   ],
   "source": [
    "\n",
    "driver=webdriver.Chrome(service=Service(ChromeDriverManager().install()), options=Options()) #choose the driver ex.Edge, Firefox\n",
    "link=f\"https://shopee.co.th/search?keyword=airpod&page=1 \" #insert the shopee url\n",
    "driver.get(link)\n",
    "driver.maximize_window()\n",
    "#change language to english in shopee\n",
    "WebDriverWait(driver, 7)#.until(EC.visibility_of_element_located((By.XPATH,f\"/html/body/div[2]/div[1]/div[1]/div/div[3]/div[2]/button\")))\n",
    "links=driver.find_element(By.XPATH,\"//a[@href]\")\n",
    "for link in links:\n",
    "    if \"English\" in link.get_attribute(\"innerHTML\"):\n",
    "        link.click()\n",
    "        break\n"
   ]
  },
  {
   "cell_type": "markdown",
   "metadata": {},
   "source": [
    "## Functions"
   ]
  },
  {
   "cell_type": "code",
   "execution_count": 14,
   "metadata": {},
   "outputs": [],
   "source": [
    "wait=WebDriverWait(driver, 10)\n",
    "def k_and_m_to_float(txt):\n",
    "    \"ฟังก์ชันเพื่อเปลี่ยน k เป็น 1000 เปลี่ยน m เป็น 1000000 เปลี่ยนเป็น float, this function change k to multiple 100 and m to multiple 1000000 \"\n",
    "    if txt[-1]==\"k\":\n",
    "        txt=(float(txt[:-1])*1000)\n",
    "    elif txt[-1]==\"m\":\n",
    "        txt=(float(txt[:-1])*1000000)\n",
    "    else:\n",
    "        txt=(float(txt))\n",
    "    return txt\n",
    "\n",
    "def hours_convert(txt):\n",
    "    \"ฟังก์ชันเพื่อเปลี่ยนทุกหน่วยเป็นหน่วยชั่วโมง,change, this function change all time unit in to hours\"\n",
    "    if txt[-10:]==' years ago':\n",
    "        txt=float(txt[:-10])*360*24\n",
    "    elif txt[-10:]==' hours ago':\n",
    "        txt=float(txt[:-10])\n",
    "    elif txt[-11:]==' months ago':\n",
    "        txt=float(txt[:-11])*30*24\n",
    "    elif txt[-9:]==' days ago':\n",
    "        txt=float(txt[:-9])*24\n",
    "    else:\n",
    "        txt=(float(0))\n",
    "    return txt\n",
    "\n",
    "def waiter(datatype,positiondata):\n",
    "    \"datatype ex. By.CSS_SELECTOR ,positiondata ex. f'.pmmxKx'\"\n",
    "    wait.until(EC.visibility_of_element_located((datatype,positiondata)))\n",
    "    global soup\n",
    "    soup=bs4.BeautifulSoup(driver.page_source)"
   ]
  },
  {
   "cell_type": "markdown",
   "metadata": {},
   "source": [
    "## Url archive page"
   ]
  },
  {
   "cell_type": "code",
   "execution_count": 15,
   "metadata": {},
   "outputs": [
    {
     "ename": "NoSuchWindowException",
     "evalue": "Message: no such window: target window already closed\nfrom unknown error: web view not found\n  (Session info: chrome=117.0.5938.149)\nStacktrace:\n0   chromedriver                        0x0000000102d0ad68 chromedriver + 4337000\n1   chromedriver                        0x0000000102d02de4 chromedriver + 4304356\n2   chromedriver                        0x000000010292fa5c chromedriver + 293468\n3   chromedriver                        0x00000001029086c0 chromedriver + 132800\n4   chromedriver                        0x000000010299c04c chromedriver + 737356\n5   chromedriver                        0x00000001029af198 chromedriver + 815512\n6   chromedriver                        0x0000000102968a5c chromedriver + 526940\n7   chromedriver                        0x0000000102969908 chromedriver + 530696\n8   chromedriver                        0x0000000102cd0db4 chromedriver + 4099508\n9   chromedriver                        0x0000000102cd5270 chromedriver + 4117104\n10  chromedriver                        0x0000000102cdb4fc chromedriver + 4142332\n11  chromedriver                        0x0000000102cd5d70 chromedriver + 4119920\n12  chromedriver                        0x0000000102cada44 chromedriver + 3955268\n13  chromedriver                        0x0000000102cf2a18 chromedriver + 4237848\n14  chromedriver                        0x0000000102cf2b94 chromedriver + 4238228\n15  chromedriver                        0x0000000102d02a5c chromedriver + 4303452\n16  libsystem_pthread.dylib             0x000000019e8a3fa8 _pthread_start + 148\n17  libsystem_pthread.dylib             0x000000019e89eda0 thread_start + 8\n",
     "output_type": "error",
     "traceback": [
      "\u001b[0;31m---------------------------------------------------------------------------\u001b[0m",
      "\u001b[0;31mNoSuchWindowException\u001b[0m                     Traceback (most recent call last)",
      "\u001b[1;32m/Users/thanapatpiyamssakul/coding/first_year/midterm/online-retail/project.ipynb Cell 9\u001b[0m line \u001b[0;36m3\n\u001b[1;32m      <a href='vscode-notebook-cell:/Users/thanapatpiyamssakul/coding/first_year/midterm/online-retail/project.ipynb#X11sZmlsZQ%3D%3D?line=0'>1</a>\u001b[0m \u001b[39mfor\u001b[39;00m N_of_page \u001b[39min\u001b[39;00m \u001b[39mrange\u001b[39m(\u001b[39m1\u001b[39m,\u001b[39m12\u001b[39m): \u001b[39m#total of page \u001b[39;00m\n\u001b[1;32m      <a href='vscode-notebook-cell:/Users/thanapatpiyamssakul/coding/first_year/midterm/online-retail/project.ipynb#X11sZmlsZQ%3D%3D?line=1'>2</a>\u001b[0m     link\u001b[39m=\u001b[39m\u001b[39mf\u001b[39m\u001b[39m\"\u001b[39m\u001b[39mhttps://shopee.co.th/search?keyword=airpod&page=\u001b[39m\u001b[39m{\u001b[39;00mN_of_page\u001b[39m}\u001b[39;00m\u001b[39m\"\u001b[39m \u001b[39m#ex. \"https://shopee.co.th/search?keyword=phone&page={N_of_page}\"\u001b[39;00m\n\u001b[0;32m----> <a href='vscode-notebook-cell:/Users/thanapatpiyamssakul/coding/first_year/midterm/online-retail/project.ipynb#X11sZmlsZQ%3D%3D?line=2'>3</a>\u001b[0m     driver\u001b[39m.\u001b[39mget(link)\n\u001b[1;32m      <a href='vscode-notebook-cell:/Users/thanapatpiyamssakul/coding/first_year/midterm/online-retail/project.ipynb#X11sZmlsZQ%3D%3D?line=3'>4</a>\u001b[0m     driver\u001b[39m.\u001b[39mexecute_script(\u001b[39m'\u001b[39m\u001b[39mdocument.body.style.zoom=\u001b[39m\u001b[39m\"\u001b[39m\u001b[39m1\u001b[39m\u001b[39m%\u001b[39m\u001b[39m\"\u001b[39m\u001b[39m'\u001b[39m)\n\u001b[1;32m      <a href='vscode-notebook-cell:/Users/thanapatpiyamssakul/coding/first_year/midterm/online-retail/project.ipynb#X11sZmlsZQ%3D%3D?line=4'>5</a>\u001b[0m     \u001b[39mtry\u001b[39;00m:\n",
      "File \u001b[0;32m~/anaconda3/lib/python3.11/site-packages/selenium/webdriver/remote/webdriver.py:353\u001b[0m, in \u001b[0;36mWebDriver.get\u001b[0;34m(self, url)\u001b[0m\n\u001b[1;32m    351\u001b[0m \u001b[39mdef\u001b[39;00m \u001b[39mget\u001b[39m(\u001b[39mself\u001b[39m, url: \u001b[39mstr\u001b[39m) \u001b[39m-\u001b[39m\u001b[39m>\u001b[39m \u001b[39mNone\u001b[39;00m:\n\u001b[1;32m    352\u001b[0m \u001b[39m    \u001b[39m\u001b[39m\"\"\"Loads a web page in the current browser session.\"\"\"\u001b[39;00m\n\u001b[0;32m--> 353\u001b[0m     \u001b[39mself\u001b[39m\u001b[39m.\u001b[39mexecute(Command\u001b[39m.\u001b[39mGET, {\u001b[39m\"\u001b[39m\u001b[39murl\u001b[39m\u001b[39m\"\u001b[39m: url})\n",
      "File \u001b[0;32m~/anaconda3/lib/python3.11/site-packages/selenium/webdriver/remote/webdriver.py:344\u001b[0m, in \u001b[0;36mWebDriver.execute\u001b[0;34m(self, driver_command, params)\u001b[0m\n\u001b[1;32m    342\u001b[0m response \u001b[39m=\u001b[39m \u001b[39mself\u001b[39m\u001b[39m.\u001b[39mcommand_executor\u001b[39m.\u001b[39mexecute(driver_command, params)\n\u001b[1;32m    343\u001b[0m \u001b[39mif\u001b[39;00m response:\n\u001b[0;32m--> 344\u001b[0m     \u001b[39mself\u001b[39m\u001b[39m.\u001b[39merror_handler\u001b[39m.\u001b[39mcheck_response(response)\n\u001b[1;32m    345\u001b[0m     response[\u001b[39m\"\u001b[39m\u001b[39mvalue\u001b[39m\u001b[39m\"\u001b[39m] \u001b[39m=\u001b[39m \u001b[39mself\u001b[39m\u001b[39m.\u001b[39m_unwrap_value(response\u001b[39m.\u001b[39mget(\u001b[39m\"\u001b[39m\u001b[39mvalue\u001b[39m\u001b[39m\"\u001b[39m, \u001b[39mNone\u001b[39;00m))\n\u001b[1;32m    346\u001b[0m     \u001b[39mreturn\u001b[39;00m response\n",
      "File \u001b[0;32m~/anaconda3/lib/python3.11/site-packages/selenium/webdriver/remote/errorhandler.py:229\u001b[0m, in \u001b[0;36mErrorHandler.check_response\u001b[0;34m(self, response)\u001b[0m\n\u001b[1;32m    227\u001b[0m         alert_text \u001b[39m=\u001b[39m value[\u001b[39m\"\u001b[39m\u001b[39malert\u001b[39m\u001b[39m\"\u001b[39m]\u001b[39m.\u001b[39mget(\u001b[39m\"\u001b[39m\u001b[39mtext\u001b[39m\u001b[39m\"\u001b[39m)\n\u001b[1;32m    228\u001b[0m     \u001b[39mraise\u001b[39;00m exception_class(message, screen, stacktrace, alert_text)  \u001b[39m# type: ignore[call-arg]  # mypy is not smart enough here\u001b[39;00m\n\u001b[0;32m--> 229\u001b[0m \u001b[39mraise\u001b[39;00m exception_class(message, screen, stacktrace)\n",
      "\u001b[0;31mNoSuchWindowException\u001b[0m: Message: no such window: target window already closed\nfrom unknown error: web view not found\n  (Session info: chrome=117.0.5938.149)\nStacktrace:\n0   chromedriver                        0x0000000102d0ad68 chromedriver + 4337000\n1   chromedriver                        0x0000000102d02de4 chromedriver + 4304356\n2   chromedriver                        0x000000010292fa5c chromedriver + 293468\n3   chromedriver                        0x00000001029086c0 chromedriver + 132800\n4   chromedriver                        0x000000010299c04c chromedriver + 737356\n5   chromedriver                        0x00000001029af198 chromedriver + 815512\n6   chromedriver                        0x0000000102968a5c chromedriver + 526940\n7   chromedriver                        0x0000000102969908 chromedriver + 530696\n8   chromedriver                        0x0000000102cd0db4 chromedriver + 4099508\n9   chromedriver                        0x0000000102cd5270 chromedriver + 4117104\n10  chromedriver                        0x0000000102cdb4fc chromedriver + 4142332\n11  chromedriver                        0x0000000102cd5d70 chromedriver + 4119920\n12  chromedriver                        0x0000000102cada44 chromedriver + 3955268\n13  chromedriver                        0x0000000102cf2a18 chromedriver + 4237848\n14  chromedriver                        0x0000000102cf2b94 chromedriver + 4238228\n15  chromedriver                        0x0000000102d02a5c chromedriver + 4303452\n16  libsystem_pthread.dylib             0x000000019e8a3fa8 _pthread_start + 148\n17  libsystem_pthread.dylib             0x000000019e89eda0 thread_start + 8\n"
     ]
    }
   ],
   "source": [
    "for N_of_page in range(1,12): #total of page \n",
    "    link=f\"https://shopee.co.th/search?keyword=airpod&page={N_of_page}\" #ex. \"https://shopee.co.th/search?keyword=phone&page={N_of_page}\"\n",
    "    driver.get(link)\n",
    "    driver.execute_script('document.body.style.zoom=\"1%\"')\n",
    "    try:\n",
    "        WebDriverWait(driver, 10).until(EC.visibility_of_all_elements_located((By.CSS_SELECTOR,f\".row\")))\n",
    "        soup=bs4.BeautifulSoup(driver.page_source)\n",
    "        url=soup.find_all('div', {'class':'col-xs-2-4 shopee-search-item-result__item'})\n",
    "    except:\n",
    "        print(\"not found a product row\")\n",
    "    for i in url:\n",
    "        url_L.append(i.find('a').get('href'))\n",
    "        print(len(url_L))"
   ]
  },
  {
   "cell_type": "markdown",
   "metadata": {},
   "source": [
    "## Scrape Feature(X)"
   ]
  },
  {
   "cell_type": "code",
   "execution_count": null,
   "metadata": {},
   "outputs": [],
   "source": [
    "for i in range ((len(url_L))):\n",
    "    w=('https://shopee.co.th'+url_L[i])\n",
    "    new_url_L.append(w)\n",
    "    print(len(new_url_L))\n",
    "    driver.get(w)\n",
    "    driver.execute_script('document.body.style.zoom=\"1%\"')    \n",
    "    soup=bs4.BeautifulSoup(driver.page_source)\n",
    "    #ชื่อสินค้า Name\n",
    "    try:\n",
    "        waiter(By.CSS_SELECTOR,\".VCNVHn\")\n",
    "        name_L.append(soup.find('div',{'class':'VCNVHn'}).text)\n",
    "    except:\n",
    "        name_L.append(\"None\")\n",
    "    #ราคา Price\n",
    "    try:\n",
    "        waiter(By.CSS_SELECTOR,f\".pmmxKx\")\n",
    "        try:\n",
    "            price_L.append(float(soup.find('div',{'class':'pmmxKx'}).text.replace(\",\",'').replace(\"฿\",\"\")))\n",
    "        except:\n",
    "            price_L.append(float((soup.find('div',{'class':'pmmxKx'}).text.replace(\",\",'').replace(\"฿\",\"\")).partition(' - ')[0]))\n",
    "    except:\n",
    "        price_L.append(\"None\")\n",
    "    #จำนวนที่ขาย sold\n",
    "    try:\n",
    "        waiter(By.CSS_SELECTOR,f\"._45NQT5\")\n",
    "        sold=(soup.find('div',{'class':'_45NQT5'}).text)\n",
    "        sold_L.append(k_and_m_to_float(sold))\n",
    "    except:\n",
    "        sold_L.append('None')\n",
    "    #จำนวนคนรีวิว amount reviewer\n",
    "    try:\n",
    "        waiter(By.CSS_SELECTOR,f\"div.HXGLyo:nth-child(2) > div:nth-child(1)\")\n",
    "        amount_reviewer=(((soup.find_all('div',{'class':'MrYJVA'}))[1]).text)\n",
    "        amount_reviewer_L.append(k_and_m_to_float(amount_reviewer))\n",
    "    except:\n",
    "        amount_reviewer_L.append(float(0))\n",
    "    #จำนวนคนรีวิวร้านค้าทั้งหมด all store reviewer\n",
    "    try:\n",
    "        waiter(By.CSS_SELECTOR,f\"div.MSPJbO:nth-child(1) > div:nth-child(1) > span:nth-child(2)\")\n",
    "        all_store_reviewer=((soup.find_all('span',{'class':'_32ZDbL'}))[0].text)\n",
    "        all_store_reviewer_L.append(k_and_m_to_float(all_store_reviewer))\n",
    "    except:\n",
    "        all_store_reviewer_L.append('None')\n",
    "    #จำนวนสินค้าทั้งหมดของร้านค้า all product of store\n",
    "    try:\n",
    "        waiter(By.CSS_SELECTOR,f\".g54jiy\")\n",
    "        all_product_store_L.append(k_and_m_to_float((soup.find('span',{'class':'_32ZDbL g54jiy'}).text)))\n",
    "    except:\n",
    "        all_product_store_L.append('None')\n",
    "    #อัตราการตอบกลับของร้านค้า response rate of store\n",
    "    try:\n",
    "        waiter(By.CSS_SELECTOR,f\"div.MSPJbO:nth-child(2) > div:nth-child(1) > span:nth-child(2)\")\n",
    "        response_rate_L.append(float((soup.find_all('span',{'class':'_32ZDbL'}))[2].text.replace('%','')))\n",
    "    except:\n",
    "        response_rate_L.append('None')\n",
    "    #จำนวนผู้ติดตาม follower of store\n",
    "    try:\n",
    "        waiter(By.CSS_SELECTOR,f\"div.MSPJbO:nth-child(3) > div:nth-child(2) > span:nth-child(2)\")\n",
    "        follower_L.append(k_and_m_to_float((soup.find_all('span',{'class':'_32ZDbL'}))[5].text))\n",
    "    except:\n",
    "        follower_L.append('None')\n",
    "    #เข้าร่วมเมื่อกี่ชั่วโมงแล้ว joined\n",
    "    try:\n",
    "        waiter(By.CSS_SELECTOR,f\"div.pHNb7U:nth-child(1) > span:nth-child(2)\")\n",
    "        joined_L.append(hours_convert((soup.find_all('span',{'class':'_32ZDbL'}))[4].text))\n",
    "    except:  \n",
    "        joined_L.append('None')\n",
    "    #rating\n",
    "    try:\n",
    "        waiter(By.CSS_SELECTOR,f\".Ga-lTj\")\n",
    "        rating_L.append(float((soup.find('div',{'class':'MrYJVA Ga-lTj'})).text))\n",
    "    except:\n",
    "        rating_L.append(float(0))"
   ]
  },
  {
   "cell_type": "markdown",
   "metadata": {},
   "source": [
    "## Make to dataframe for use"
   ]
  },
  {
   "cell_type": "code",
   "execution_count": null,
   "metadata": {},
   "outputs": [],
   "source": [
    "shopee=pd.DataFrame([new_url_L,name_L,price_L,sold_L,amount_reviewer_L,all_store_reviewer_L,all_product_store_L,response_rate_L,follower_L,joined_L,rating_L]).transpose()\n",
    "shopee.columns=['url','name','price','sold','amount reviewer','all reviewer of store','amount product','response rate','follower','joined','rating']\n",
    "shopee.to_excel(r'F:\\Code\\Shopee_Data_Scraping\\rawdata\\earpod2.xlsx')"
   ]
  }
 ],
 "metadata": {
  "kernelspec": {
   "display_name": "base",
   "language": "python",
   "name": "python3"
  },
  "language_info": {
   "codemirror_mode": {
    "name": "ipython",
    "version": 3
   },
   "file_extension": ".py",
   "mimetype": "text/x-python",
   "name": "python",
   "nbconvert_exporter": "python",
   "pygments_lexer": "ipython3",
   "version": "3.11.4"
  },
  "orig_nbformat": 4
 },
 "nbformat": 4,
 "nbformat_minor": 2
}
