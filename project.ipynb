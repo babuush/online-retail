{
 "cells": [
  {
   "cell_type": "markdown",
   "metadata": {},
   "source": [
    "# Web Scraping Project\n",
    "## import"
   ]
  },
  {
   "cell_type": "code",
   "execution_count": 1,
   "metadata": {},
   "outputs": [],
   "source": [
    "from selenium import webdriver\n",
    "from selenium.webdriver.common.by import By\n",
    "from selenium.webdriver.edge.service import Service\n",
    "from selenium.webdriver.common.keys import Keys\n",
    "from selenium.webdriver.support.ui import WebDriverWait\n",
    "from selenium.webdriver.support import expected_conditions as EC\n",
    "from selenium.webdriver.edge.options import Options\n",
    "from webdriver_manager.microsoft import EdgeChromiumDriverManager\n",
    "import bs4\n",
    "import pandas as pd"
   ]
  },
  {
   "cell_type": "code",
   "execution_count": null,
   "metadata": {},
   "outputs": [],
   "source": [
    "url_L=[]\n",
    "name_L=[]\n",
    "price_L=[]\n",
    "sold_L=[]\n",
    "amount_reviewer_L=[]\n",
    "all_store_reviewer_L=[]\n",
    "all_product_store_L=[]\n",
    "response_rate_L=[]\n",
    "follower_L=[]\n",
    "joined_L=[]\n",
    "rating_L=[]\n",
    "new_url_L=[]"
   ]
  },
  {
   "cell_type": "markdown",
   "metadata": {},
   "source": [
    "## setup the driver"
   ]
  },
  {
   "cell_type": "code",
   "execution_count": null,
   "metadata": {},
   "outputs": [],
   "source": [
    "s = Service(EdgeChromiumDriverManager.install()) #install the driver\n",
    "driver=webdriver.Edge(service=s) #choose the driver ex.Edge, Firefox\n",
    "link=f\"https://shopee.co.th/search?keyword=airpod&page=1 \" #insert the shopee url\n",
    "driver.get(link)\n",
    "\n",
    "#change language to english in shopee\n",
    "WebDriverWait(driver, 10).until(EC.visibility_of_element_located((By.XPATH,f\"/html/body/div[2]/div[1]/div[1]/div/div[3]/div[2]/button\")))\n",
    "eng_button=driver.find_element(By.XPATH,\"/html/body/div[2]/div[1]/div[1]/div/div[3]/div[2]/button\")\n",
    "eng_button.click()"
   ]
  },
  {
   "cell_type": "markdown",
   "metadata": {},
   "source": [
    "## Functions"
   ]
  },
  {
   "cell_type": "code",
   "execution_count": null,
   "metadata": {},
   "outputs": [],
   "source": [
    "wait=WebDriverWait(driver, 10)\n",
    "def k_and_m_to_float(txt):\n",
    "    \"ฟังก์ชันเพื่อเปลี่ยน k เป็น 1000 เปลี่ยน m เป็น 1000000 เปลี่ยนเป็น float, this function change k to multiple 100 and m to multiple 1000000 \"\n",
    "    if txt[-1]==\"k\":\n",
    "        txt=(float(txt[:-1])*1000)\n",
    "    elif txt[-1]==\"m\":\n",
    "        txt=(float(txt[:-1])*1000000)\n",
    "    else:\n",
    "        txt=(float(txt))\n",
    "    return txt\n",
    "\n",
    "def hours_convert(txt):\n",
    "    \"ฟังก์ชันเพื่อเปลี่ยนทุกหน่วยเป็นหน่วยชั่วโมง,change, this function change all time unit in to hours\"\n",
    "    if txt[-10:]==' years ago':\n",
    "        txt=float(txt[:-10])*360*24\n",
    "    elif txt[-10:]==' hours ago':\n",
    "        txt=float(txt[:-10])\n",
    "    elif txt[-11:]==' months ago':\n",
    "        txt=float(txt[:-11])*30*24\n",
    "    elif txt[-9:]==' days ago':\n",
    "        txt=float(txt[:-9])*24\n",
    "    else:\n",
    "        txt=(float(0))\n",
    "    return txt\n",
    "\n",
    "def waiter(datatype,positiondata):\n",
    "    \"datatype ex. By.CSS_SELECTOR ,positiondata ex. f'.pmmxKx'\"\n",
    "    wait.until(EC.visibility_of_element_located((datatype,positiondata)))\n",
    "    global soup\n",
    "    soup=bs4.BeautifulSoup(driver.page_source)"
   ]
  },
  {
   "cell_type": "markdown",
   "metadata": {},
   "source": [
    "## Url archive page"
   ]
  },
  {
   "cell_type": "code",
   "execution_count": null,
   "metadata": {},
   "outputs": [],
   "source": [
    "for N_of_page in range(1,12): #total of page \n",
    "    link=f\"https://shopee.co.th/search?keyword=airpod&page={N_of_page}\" #ex. \"https://shopee.co.th/search?keyword=phone&page={N_of_page}\"\n",
    "    driver.get(link)\n",
    "    driver.execute_script('document.body.style.zoom=\"1%\"')\n",
    "    try:\n",
    "        WebDriverWait(driver, 10).until(EC.visibility_of_all_elements_located((By.CSS_SELECTOR,f\".row\")))\n",
    "        soup=bs4.BeautifulSoup(driver.page_source)\n",
    "        url=soup.find_all('div', {'class':'col-xs-2-4 shopee-search-item-result__item'})\n",
    "    except:\n",
    "        print(\"not found a product row\")\n",
    "    for i in url:\n",
    "        url_L.append(i.find('a').get('href'))\n",
    "        print(len(url_L))"
   ]
  },
  {
   "cell_type": "markdown",
   "metadata": {},
   "source": [
    "## Scrape Feature(X)"
   ]
  },
  {
   "cell_type": "code",
   "execution_count": null,
   "metadata": {},
   "outputs": [],
   "source": [
    "for i in range ((len(url_L))):\n",
    "    w=('https://shopee.co.th'+url_L[i])\n",
    "    new_url_L.append(w)\n",
    "    print(len(new_url_L))\n",
    "    driver.get(w)\n",
    "    driver.execute_script('document.body.style.zoom=\"1%\"')    \n",
    "    soup=bs4.BeautifulSoup(driver.page_source)\n",
    "    #ชื่อสินค้า Name\n",
    "    try:\n",
    "        waiter(By.CSS_SELECTOR,\".VCNVHn\")\n",
    "        name_L.append(soup.find('div',{'class':'VCNVHn'}).text)\n",
    "    except:\n",
    "        name_L.append(\"None\")\n",
    "    #ราคา Price\n",
    "    try:\n",
    "        waiter(By.CSS_SELECTOR,f\".pmmxKx\")\n",
    "        try:\n",
    "            price_L.append(float(soup.find('div',{'class':'pmmxKx'}).text.replace(\",\",'').replace(\"฿\",\"\")))\n",
    "        except:\n",
    "            price_L.append(float((soup.find('div',{'class':'pmmxKx'}).text.replace(\",\",'').replace(\"฿\",\"\")).partition(' - ')[0]))\n",
    "    except:\n",
    "        price_L.append(\"None\")\n",
    "    #จำนวนที่ขาย sold\n",
    "    try:\n",
    "        waiter(By.CSS_SELECTOR,f\"._45NQT5\")\n",
    "        sold=(soup.find('div',{'class':'_45NQT5'}).text)\n",
    "        sold_L.append(k_and_m_to_float(sold))\n",
    "    except:\n",
    "        sold_L.append('None')\n",
    "    #จำนวนคนรีวิว amount reviewer\n",
    "    try:\n",
    "        waiter(By.CSS_SELECTOR,f\"div.HXGLyo:nth-child(2) > div:nth-child(1)\")\n",
    "        amount_reviewer=(((soup.find_all('div',{'class':'MrYJVA'}))[1]).text)\n",
    "        amount_reviewer_L.append(k_and_m_to_float(amount_reviewer))\n",
    "    except:\n",
    "        amount_reviewer_L.append(float(0))\n",
    "    #จำนวนคนรีวิวร้านค้าทั้งหมด all store reviewer\n",
    "    try:\n",
    "        waiter(By.CSS_SELECTOR,f\"div.MSPJbO:nth-child(1) > div:nth-child(1) > span:nth-child(2)\")\n",
    "        all_store_reviewer=((soup.find_all('span',{'class':'_32ZDbL'}))[0].text)\n",
    "        all_store_reviewer_L.append(k_and_m_to_float(all_store_reviewer))\n",
    "    except:\n",
    "        all_store_reviewer_L.append('None')\n",
    "    #จำนวนสินค้าทั้งหมดของร้านค้า all product of store\n",
    "    try:\n",
    "        waiter(By.CSS_SELECTOR,f\".g54jiy\")\n",
    "        all_product_store_L.append(k_and_m_to_float((soup.find('span',{'class':'_32ZDbL g54jiy'}).text)))\n",
    "    except:\n",
    "        all_product_store_L.append('None')\n",
    "    #อัตราการตอบกลับของร้านค้า response rate of store\n",
    "    try:\n",
    "        waiter(By.CSS_SELECTOR,f\"div.MSPJbO:nth-child(2) > div:nth-child(1) > span:nth-child(2)\")\n",
    "        response_rate_L.append(float((soup.find_all('span',{'class':'_32ZDbL'}))[2].text.replace('%','')))\n",
    "    except:\n",
    "        response_rate_L.append('None')\n",
    "    #จำนวนผู้ติดตาม follower of store\n",
    "    try:\n",
    "        waiter(By.CSS_SELECTOR,f\"div.MSPJbO:nth-child(3) > div:nth-child(2) > span:nth-child(2)\")\n",
    "        follower_L.append(k_and_m_to_float((soup.find_all('span',{'class':'_32ZDbL'}))[5].text))\n",
    "    except:\n",
    "        follower_L.append('None')\n",
    "    #เข้าร่วมเมื่อกี่ชั่วโมงแล้ว joined\n",
    "    try:\n",
    "        waiter(By.CSS_SELECTOR,f\"div.pHNb7U:nth-child(1) > span:nth-child(2)\")\n",
    "        joined_L.append(hours_convert((soup.find_all('span',{'class':'_32ZDbL'}))[4].text))\n",
    "    except:  \n",
    "        joined_L.append('None')\n",
    "    #rating\n",
    "    try:\n",
    "        waiter(By.CSS_SELECTOR,f\".Ga-lTj\")\n",
    "        rating_L.append(float((soup.find('div',{'class':'MrYJVA Ga-lTj'})).text))\n",
    "    except:\n",
    "        rating_L.append(float(0))"
   ]
  },
  {
   "cell_type": "markdown",
   "metadata": {},
   "source": [
    "## Make to dataframe for use"
   ]
  },
  {
   "cell_type": "code",
   "execution_count": null,
   "metadata": {},
   "outputs": [],
   "source": [
    "shopee=pd.DataFrame([new_url_L,name_L,price_L,sold_L,amount_reviewer_L,all_store_reviewer_L,all_product_store_L,response_rate_L,follower_L,joined_L,rating_L]).transpose()\n",
    "shopee.columns=['url','name','price','sold','amount reviewer','all reviewer of store','amount product','response rate','follower','joined','rating']\n",
    "shopee.to_excel(r'F:\\Code\\Shopee_Data_Scraping\\rawdata\\earpod2.xlsx')"
   ]
  }
 ],
 "metadata": {
  "kernelspec": {
   "display_name": "base",
   "language": "python",
   "name": "python3"
  },
  "language_info": {
   "codemirror_mode": {
    "name": "ipython",
    "version": 3
   },
   "file_extension": ".py",
   "mimetype": "text/x-python",
   "name": "python",
   "nbconvert_exporter": "python",
   "pygments_lexer": "ipython3",
   "version": "3.11.4"
  },
  "orig_nbformat": 4
 },
 "nbformat": 4,
 "nbformat_minor": 2
}
