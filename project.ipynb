{
 "cells": [
  {
   "cell_type": "markdown",
   "metadata": {},
   "source": [
    "# Web Scraping Project\n",
    "## import"
   ]
  },
  {
   "cell_type": "code",
   "execution_count": 1,
   "metadata": {},
   "outputs": [],
   "source": [
    "from selenium import webdriver\n",
    "from selenium.webdriver.common.by import By\n",
    "from selenium.webdriver.chrome.options import Options\n",
    "from selenium.webdriver.chrome.service import Service\n",
    "from webdriver_manager.chrome import ChromeDriverManager\n",
    "from selenium.webdriver.common.keys import Keys\n",
    "from selenium.webdriver.support.ui import WebDriverWait\n",
    "from selenium.webdriver.support import expected_conditions as EC\n",
    "\n",
    "import bs4\n",
    "import pandas as pd\n",
    "import time\n"
   ]
  },
  {
   "cell_type": "code",
   "execution_count": 2,
   "metadata": {},
   "outputs": [],
   "source": [
    "url_L=[]\n",
    "name_L=[]\n",
    "price_L=[]\n",
    "sold_L=[]\n",
    "amount_reviewer_L=[]\n",
    "all_store_reviewer_L=[]\n",
    "all_product_store_L=[]\n",
    "response_rate_L=[]\n",
    "follower_L=[]\n",
    "joined_L=[]\n",
    "rating_L=[]\n",
    "new_url_L=[]"
   ]
  },
  {
   "cell_type": "markdown",
   "metadata": {},
   "source": [
    "## setup the driver"
   ]
  },
  {
   "cell_type": "code",
   "execution_count": 3,
   "metadata": {},
   "outputs": [],
   "source": [
    "driver=webdriver.Chrome(service=Service(ChromeDriverManager().install()), options=Options()) #choose the driver ex.Edge, Firefox\n",
    "link=f\"https://shopee.co.th\" #insert the shopee url\n",
    "driver.get(link)\n",
    "driver.maximize_window()"
   ]
  },
  {
   "cell_type": "code",
   "execution_count": 4,
   "metadata": {},
   "outputs": [],
   "source": [
    "#change language to english in shopee\n",
    "WebDriverWait(driver, 5).until(EC.visibility_of_element_located((By.XPATH,f\"/html/body/div[2]/div[1]/div[1]/div/div[3]/div[2]/button\")))\n",
    "links=driver.find_element(By.XPATH,f\"/html/body/div[2]/div[1]/div[1]/div/div[3]/div[2]/button\")\n",
    "links.click()"
   ]
  },
  {
   "cell_type": "code",
   "execution_count": 5,
   "metadata": {},
   "outputs": [],
   "source": [
    "#close the ads\n",
    "ads = driver.execute_script('return document.querySelector(\"shopee-banner-popup-stateful\").shadowRoot.querySelector(\"div.shopee-popup__close-btn\")')\n",
    "ads.click()"
   ]
  },
  {
   "cell_type": "code",
   "execution_count": 6,
   "metadata": {},
   "outputs": [],
   "source": [
    "catergories = driver.find_element(By.XPATH,f'/html/body/div[1]/div/div[2]/div/div/div[3]/div[3]/div[1]/div/div[2]/div/div[1]/ul/li[20]/a')\n",
    "catergories.click()"
   ]
  },
  {
   "cell_type": "code",
   "execution_count": 7,
   "metadata": {},
   "outputs": [],
   "source": [
    "driver.execute_script(\"document.body.style.zoom = '15%'\")"
   ]
  },
  {
   "cell_type": "markdown",
   "metadata": {},
   "source": [
    "## Functions"
   ]
  },
  {
   "cell_type": "code",
   "execution_count": 8,
   "metadata": {},
   "outputs": [],
   "source": [
    "wait=WebDriverWait(driver, 10)\n",
    "def k_and_m_to_float(txt):\n",
    "    \"ฟังก์ชันเพื่อเปลี่ยน k เป็น 1000 เปลี่ยน m เป็น 1000000 เปลี่ยนเป็น float, this function change k to multiple 100 and m to multiple 1000000 \"\n",
    "    if txt[-1]==\"k\":\n",
    "        txt=(float(txt[:-1])*1000)\n",
    "    elif txt[-1]==\"m\":\n",
    "        txt=(float(txt[:-1])*1000000)\n",
    "    else:\n",
    "        txt=(float(txt))\n",
    "    return txt\n",
    "\n",
    "def hours_convert(txt):\n",
    "    \"ฟังก์ชันเพื่อเปลี่ยนทุกหน่วยเป็นหน่วยชั่วโมง,change, this function change all time unit in to hours\"\n",
    "    if txt[-10:]==' years ago':\n",
    "        txt=float(txt[:-10])*360*24\n",
    "    elif txt[-10:]==' hours ago':\n",
    "        txt=float(txt[:-10])\n",
    "    elif txt[-11:]==' months ago':\n",
    "        txt=float(txt[:-11])*30*24\n",
    "    elif txt[-9:]==' days ago':\n",
    "        txt=float(txt[:-9])*24\n",
    "    else:\n",
    "        txt=(float(0))\n",
    "    return txt\n",
    "\n",
    "def waiter(datatype,positiondata):\n",
    "    \"datatype ex. By.CSS_SELECTOR ,positiondata ex. f'.pmmxKx'\"\n",
    "    wait.until(EC.visibility_of_element_located((datatype,positiondata)))\n",
    "    global soup\n",
    "    soup=bs4.BeautifulSoup(driver.page_source)"
   ]
  },
  {
   "cell_type": "markdown",
   "metadata": {},
   "source": [
    "## Url archive page"
   ]
  },
  {
   "cell_type": "code",
   "execution_count": 11,
   "metadata": {},
   "outputs": [
    {
     "name": "stdout",
     "output_type": "stream",
     "text": [
      "1\n",
      "2\n",
      "3\n",
      "4\n",
      "5\n",
      "6\n",
      "7\n",
      "8\n",
      "9\n",
      "10\n",
      "11\n",
      "12\n",
      "13\n",
      "14\n",
      "15\n"
     ]
    },
    {
     "ename": "AttributeError",
     "evalue": "'NoneType' object has no attribute 'get'",
     "output_type": "error",
     "traceback": [
      "\u001b[0;31m---------------------------------------------------------------------------\u001b[0m",
      "\u001b[0;31mAttributeError\u001b[0m                            Traceback (most recent call last)",
      "\u001b[1;32m/Users/thanapatpiyamssakul/coding/first_year/midterm/online-retail/project.ipynb Cell 13\u001b[0m line \u001b[0;36m1\n\u001b[1;32m     <a href='vscode-notebook-cell:/Users/thanapatpiyamssakul/coding/first_year/midterm/online-retail/project.ipynb#X15sZmlsZQ%3D%3D?line=9'>10</a>\u001b[0m     \u001b[39mprint\u001b[39m(\u001b[39m\"\u001b[39m\u001b[39mnot found a product row\u001b[39m\u001b[39m\"\u001b[39m)\n\u001b[1;32m     <a href='vscode-notebook-cell:/Users/thanapatpiyamssakul/coding/first_year/midterm/online-retail/project.ipynb#X15sZmlsZQ%3D%3D?line=10'>11</a>\u001b[0m \u001b[39mfor\u001b[39;00m i \u001b[39min\u001b[39;00m url:\n\u001b[0;32m---> <a href='vscode-notebook-cell:/Users/thanapatpiyamssakul/coding/first_year/midterm/online-retail/project.ipynb#X15sZmlsZQ%3D%3D?line=11'>12</a>\u001b[0m     url_L\u001b[39m.\u001b[39mappend(i\u001b[39m.\u001b[39mfind(\u001b[39m'\u001b[39m\u001b[39ma\u001b[39m\u001b[39m'\u001b[39m)\u001b[39m.\u001b[39mget(\u001b[39m'\u001b[39m\u001b[39mhref\u001b[39m\u001b[39m'\u001b[39m))\n\u001b[1;32m     <a href='vscode-notebook-cell:/Users/thanapatpiyamssakul/coding/first_year/midterm/online-retail/project.ipynb#X15sZmlsZQ%3D%3D?line=12'>13</a>\u001b[0m     \u001b[39mprint\u001b[39m(\u001b[39mlen\u001b[39m(url_L))\n",
      "\u001b[0;31mAttributeError\u001b[0m: 'NoneType' object has no attribute 'get'"
     ]
    }
   ],
   "source": [
    "for N_of_page in range(1,9): #total of page \n",
    "    link=f\"https://shopee.co.th/Gaming-Accessories-cat.11044961?page={N_of_page}\" #insert the shopee url\n",
    "    driver.get(link)\n",
    "    driver.execute_script('document.body.style.zoom=\"15%\"')\n",
    "    try:\n",
    "        time.sleep(3)\n",
    "        soup=bs4.BeautifulSoup(driver.page_source)\n",
    "        url=soup.find_all('div', {'class':'col-xs-2-4 shopee-search-item-result__item'})\n",
    "    except:\n",
    "        print(\"not found a product row\")\n",
    "    for i in url:\n",
    "        url_L.append(i.find('a').get('href'))\n",
    "        print(len(url_L))"
   ]
  },
  {
   "cell_type": "code",
   "execution_count": 10,
   "metadata": {},
   "outputs": [
    {
     "name": "stdout",
     "output_type": "stream",
     "text": [
      "[]\n"
     ]
    }
   ],
   "source": [
    "print(url_L)"
   ]
  },
  {
   "cell_type": "markdown",
   "metadata": {},
   "source": [
    "## Scrape Feature(X)"
   ]
  },
  {
   "cell_type": "code",
   "execution_count": 14,
   "metadata": {},
   "outputs": [],
   "source": [
    "for i in range ((len(url_L))):\n",
    "    w=('https://shopee.co.th'+url_L[i])\n",
    "    new_url_L.append(w)\n",
    "    print(len(new_url_L))\n",
    "    driver.get(w)\n",
    "    driver.execute_script('document.body.style.zoom=\"1%\"')    \n",
    "    soup=bs4.BeautifulSoup(driver.page_source)\n",
    "    #ชื่อสินค้า Name\n",
    "    try:\n",
    "        waiter(By.CSS_SELECTOR,\".VCNVHn\")\n",
    "        name_L.append(soup.find('div',{'class':'VCNVHn'}).text)\n",
    "    except:\n",
    "        name_L.append(\"None\")\n",
    "    #ราคา Price\n",
    "    try:\n",
    "        waiter(By.CSS_SELECTOR,f\".pmmxKx\")\n",
    "        try:\n",
    "            price_L.append(float(soup.find('div',{'class':'pmmxKx'}).text.replace(\",\",'').replace(\"฿\",\"\")))\n",
    "        except:\n",
    "            price_L.append(float((soup.find('div',{'class':'pmmxKx'}).text.replace(\",\",'').replace(\"฿\",\"\")).partition(' - ')[0]))\n",
    "    except:\n",
    "        price_L.append(\"None\")\n",
    "    #จำนวนที่ขาย sold\n",
    "    try:\n",
    "        waiter(By.CSS_SELECTOR,f\"._45NQT5\")\n",
    "        sold=(soup.find('div',{'class':'_45NQT5'}).text)\n",
    "        sold_L.append(k_and_m_to_float(sold))\n",
    "    except:\n",
    "        sold_L.append('None')\n",
    "    #จำนวนคนรีวิว amount reviewer\n",
    "    try:\n",
    "        waiter(By.CSS_SELECTOR,f\"div.HXGLyo:nth-child(2) > div:nth-child(1)\")\n",
    "        amount_reviewer=(((soup.find_all('div',{'class':'MrYJVA'}))[1]).text)\n",
    "        amount_reviewer_L.append(k_and_m_to_float(amount_reviewer))\n",
    "    except:\n",
    "        amount_reviewer_L.append(float(0))\n",
    "    #จำนวนคนรีวิวร้านค้าทั้งหมด all store reviewer\n",
    "    try:\n",
    "        waiter(By.CSS_SELECTOR,f\"div.MSPJbO:nth-child(1) > div:nth-child(1) > span:nth-child(2)\")\n",
    "        all_store_reviewer=((soup.find_all('span',{'class':'_32ZDbL'}))[0].text)\n",
    "        all_store_reviewer_L.append(k_and_m_to_float(all_store_reviewer))\n",
    "    except:\n",
    "        all_store_reviewer_L.append('None')\n",
    "    #จำนวนสินค้าทั้งหมดของร้านค้า all product of store\n",
    "    try:\n",
    "        waiter(By.CSS_SELECTOR,f\".g54jiy\")\n",
    "        all_product_store_L.append(k_and_m_to_float((soup.find('span',{'class':'_32ZDbL g54jiy'}).text)))\n",
    "    except:\n",
    "        all_product_store_L.append('None')\n",
    "    #อัตราการตอบกลับของร้านค้า response rate of store\n",
    "    try:\n",
    "        waiter(By.CSS_SELECTOR,f\"div.MSPJbO:nth-child(2) > div:nth-child(1) > span:nth-child(2)\")\n",
    "        response_rate_L.append(float((soup.find_all('span',{'class':'_32ZDbL'}))[2].text.replace('%','')))\n",
    "    except:\n",
    "        response_rate_L.append('None')\n",
    "    #จำนวนผู้ติดตาม follower of store\n",
    "    try:\n",
    "        waiter(By.CSS_SELECTOR,f\"div.MSPJbO:nth-child(3) > div:nth-child(2) > span:nth-child(2)\")\n",
    "        follower_L.append(k_and_m_to_float((soup.find_all('span',{'class':'_32ZDbL'}))[5].text))\n",
    "    except:\n",
    "        follower_L.append('None')\n",
    "    #เข้าร่วมเมื่อกี่ชั่วโมงแล้ว joined\n",
    "    try:\n",
    "        waiter(By.CSS_SELECTOR,f\"div.pHNb7U:nth-child(1) > span:nth-child(2)\")\n",
    "        joined_L.append(hours_convert((soup.find_all('span',{'class':'_32ZDbL'}))[4].text))\n",
    "    except:  \n",
    "        joined_L.append('None')\n",
    "    #rating\n",
    "    try:\n",
    "        waiter(By.CSS_SELECTOR,f\".Ga-lTj\")\n",
    "        rating_L.append(float((soup.find('div',{'class':'MrYJVA Ga-lTj'})).text))\n",
    "    except:\n",
    "        rating_L.append(float(0))"
   ]
  },
  {
   "cell_type": "markdown",
   "metadata": {},
   "source": [
    "## Make to dataframe for use"
   ]
  },
  {
   "cell_type": "code",
   "execution_count": 22,
   "metadata": {},
   "outputs": [],
   "source": [
    "shopee=pd.DataFrame([new_url_L,name_L,price_L,sold_L,amount_reviewer_L,all_store_reviewer_L,all_product_store_L,response_rate_L,follower_L,joined_L,rating_L]).transpose()\n",
    "shopee.columns=['url','name','price','sold','amount reviewer','all reviewer of store','amount product','response rate','follower','joined','rating']\n",
    "shopee.to_csv(r'/Users/thanapatpiyamssakul/coding/first_year/midterm/test.csv')"
   ]
  }
 ],
 "metadata": {
  "kernelspec": {
   "display_name": "base",
   "language": "python",
   "name": "python3"
  },
  "language_info": {
   "codemirror_mode": {
    "name": "ipython",
    "version": 3
   },
   "file_extension": ".py",
   "mimetype": "text/x-python",
   "name": "python",
   "nbconvert_exporter": "python",
   "pygments_lexer": "ipython3",
   "version": "3.11.4"
  },
  "orig_nbformat": 4
 },
 "nbformat": 4,
 "nbformat_minor": 2
}
