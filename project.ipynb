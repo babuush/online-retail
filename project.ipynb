{
 "cells": [
  {
   "cell_type": "markdown",
   "metadata": {},
   "source": [
    "# Web Scraping Project\n",
    "## import"
   ]
  },
  {
   "cell_type": "code",
   "execution_count": 1,
   "metadata": {},
   "outputs": [],
   "source": [
    "from selenium import webdriver\n",
    "from selenium.webdriver.common.by import By\n",
    "from selenium.webdriver.chrome.options import Options\n",
    "from selenium.webdriver.chrome.service import Service\n",
    "from webdriver_manager.chrome import ChromeDriverManager\n",
    "from selenium.webdriver.common.keys import Keys\n",
    "from selenium.webdriver.support.ui import WebDriverWait\n",
    "from selenium.webdriver.support import expected_conditions as EC\n",
    "\n",
    "import bs4\n",
    "import pandas as pd\n",
    "import time\n"
   ]
  },
  {
   "cell_type": "code",
   "execution_count": 2,
   "metadata": {},
   "outputs": [],
   "source": [
    "\n",
    "name_L=[]\n",
    "price_L=[]\n",
    "sold_L=[]\n"
   ]
  },
  {
   "cell_type": "markdown",
   "metadata": {},
   "source": [
    "## setup the driver"
   ]
  },
  {
   "cell_type": "code",
   "execution_count": 3,
   "metadata": {},
   "outputs": [],
   "source": [
    "driver=webdriver.Chrome(service=Service(ChromeDriverManager().install()), options=Options()) #choose the driver ex.Edge, Firefox\n",
    "link=f\"https://shopee.co.th\" #insert the shopee url\n",
    "driver.get(link)\n",
    "driver.maximize_window()"
   ]
  },
  {
   "cell_type": "code",
   "execution_count": 4,
   "metadata": {},
   "outputs": [],
   "source": [
    "#change language to english in shopee\n",
    "WebDriverWait(driver, 5).until(EC.visibility_of_element_located((By.XPATH,f\"/html/body/div[2]/div[1]/div[1]/div/div[3]/div[2]/button\")))\n",
    "links=driver.find_element(By.XPATH,f\"/html/body/div[2]/div[1]/div[1]/div/div[3]/div[2]/button\")\n",
    "links.click()"
   ]
  },
  {
   "cell_type": "code",
   "execution_count": 5,
   "metadata": {},
   "outputs": [],
   "source": [
    "#close the ads\n",
    "ads = driver.execute_script('return document.querySelector(\"shopee-banner-popup-stateful\").shadowRoot.querySelector(\"div.shopee-popup__close-btn\")')\n",
    "ads.click()"
   ]
  },
  {
   "cell_type": "code",
   "execution_count": 6,
   "metadata": {},
   "outputs": [],
   "source": [
    "catergories = driver.find_element(By.XPATH,f'/html/body/div[1]/div/div[2]/div/div/div[3]/div[3]/div[1]/div/div[2]/div/div[1]/ul/li[20]/a')\n",
    "catergories.click()"
   ]
  },
  {
   "cell_type": "code",
   "execution_count": 24,
   "metadata": {},
   "outputs": [],
   "source": [
    "driver.execute_script(\"document.body.style.zoom = '15%'\")"
   ]
  },
  {
   "cell_type": "code",
   "execution_count": 28,
   "metadata": {},
   "outputs": [],
   "source": [
    "data = driver.page_source\n",
    "soup = bs4.BeautifulSoup(data)"
   ]
  },
  {
   "cell_type": "markdown",
   "metadata": {},
   "source": [
    "## Scrape Feature"
   ]
  },
  {
   "cell_type": "code",
   "execution_count": 35,
   "metadata": {},
   "outputs": [],
   "source": [
    "all_product_name = soup.find_all('div', class_=\"APSFjk cB928k skSW9t\") #find all product name\n",
    "for name in all_product_name:\n",
    "    name_L.append(name.text)\n",
    "\n",
    "all_price = soup.find_all('span', class_=\"KwA6xi\") #find all price\n",
    "for price in all_price:\n",
    "    price_L.append(price.text)\n",
    "\n",
    "all_sold = soup.find_all('div', class_=\"QE5lnM _2pKDjP\") #find all sold\n",
    "for sold in all_sold:\n",
    "    sold_L.append(sold.text)"
   ]
  },
  {
   "cell_type": "markdown",
   "metadata": {},
   "source": [
    "## Make to dataframe for use"
   ]
  },
  {
   "cell_type": "code",
   "execution_count": 37,
   "metadata": {},
   "outputs": [],
   "source": [
    "shopee=pd.DataFrame([name_L,price_L,sold_L]).transpose()\n",
    "shopee.columns=['name','price','sold']\n",
    "shopee.to_csv(r'/Users/thanapatpiyamssakul/coding/first_year/midterm/test.csv')"
   ]
  }
 ],
 "metadata": {
  "kernelspec": {
   "display_name": "base",
   "language": "python",
   "name": "python3"
  },
  "language_info": {
   "codemirror_mode": {
    "name": "ipython",
    "version": 3
   },
   "file_extension": ".py",
   "mimetype": "text/x-python",
   "name": "python",
   "nbconvert_exporter": "python",
   "pygments_lexer": "ipython3",
   "version": "3.11.4"
  },
  "orig_nbformat": 4
 },
 "nbformat": 4,
 "nbformat_minor": 2
}
